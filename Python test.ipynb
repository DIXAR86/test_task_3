{
 "cells": [
  {
   "cell_type": "markdown",
   "metadata": {},
   "source": [
    "# Синтаксис (3 задачи)\n",
    "1) Напишите программу, которая печатает числа от 1 до 100: \n",
    "    - для кратных трем вместо числа печатать “Fizz” , \n",
    "    - для кратных пяти - печатать “Buzz”,\n",
    "    - для кратных и трем, и пяти - печатать “FizzBuzz”"
   ]
  },
  {
   "cell_type": "code",
   "execution_count": 22,
   "metadata": {},
   "outputs": [
    {
     "name": "stdout",
     "output_type": "stream",
     "text": [
      "1\n",
      "2\n",
      "Fizz\n",
      "4\n",
      "Buzz\n",
      "Fizz\n",
      "7\n",
      "8\n",
      "Fizz\n",
      "Buzz\n",
      "11\n",
      "Fizz\n",
      "13\n",
      "14\n",
      "FizzBuzz\n",
      "16\n",
      "17\n",
      "Fizz\n",
      "19\n",
      "Buzz\n",
      "Fizz\n",
      "22\n",
      "23\n",
      "Fizz\n",
      "Buzz\n",
      "26\n",
      "Fizz\n",
      "28\n",
      "29\n",
      "FizzBuzz\n",
      "31\n",
      "32\n",
      "Fizz\n",
      "34\n",
      "Buzz\n",
      "Fizz\n",
      "37\n",
      "38\n",
      "Fizz\n",
      "Buzz\n",
      "41\n",
      "Fizz\n",
      "43\n",
      "44\n",
      "FizzBuzz\n",
      "46\n",
      "47\n",
      "Fizz\n",
      "49\n",
      "Buzz\n",
      "Fizz\n",
      "52\n",
      "53\n",
      "Fizz\n",
      "Buzz\n",
      "56\n",
      "Fizz\n",
      "58\n",
      "59\n",
      "FizzBuzz\n",
      "61\n",
      "62\n",
      "Fizz\n",
      "64\n",
      "Buzz\n",
      "Fizz\n",
      "67\n",
      "68\n",
      "Fizz\n",
      "Buzz\n",
      "71\n",
      "Fizz\n",
      "73\n",
      "74\n",
      "FizzBuzz\n",
      "76\n",
      "77\n",
      "Fizz\n",
      "79\n",
      "Buzz\n",
      "Fizz\n",
      "82\n",
      "83\n",
      "Fizz\n",
      "Buzz\n",
      "86\n",
      "Fizz\n",
      "88\n",
      "89\n",
      "FizzBuzz\n",
      "91\n",
      "92\n",
      "Fizz\n",
      "94\n",
      "Buzz\n",
      "Fizz\n",
      "97\n",
      "98\n",
      "Fizz\n",
      "Buzz\n"
     ]
    }
   ],
   "source": [
    "# code here\n",
    "for i in range (1, 101):\n",
    "    if ((i/3)-(i//3) == 0) and ((i/5)-(i//5) == 0):\n",
    "        print('FizzBuzz')\n",
    "    elif (i/3)-(i//3) == 0:\n",
    "        print('Fizz')\n",
    "    elif (i/5)-(i//5) == 0:\n",
    "        print('Buzz')\n",
    "    else:\n",
    "        print(i)"
   ]
  },
  {
   "cell_type": "markdown",
   "metadata": {},
   "source": [
    "2) Дано X=3 и Y=4, поменять местами значения X и Y так, что X=4 и Y=3. \n",
    "   \n",
    "   Сделать это несколькими способами, в одном из которых использовать \"синтаксический сахар\" python`а"
   ]
  },
  {
   "cell_type": "code",
   "execution_count": 32,
   "metadata": {},
   "outputs": [
    {
     "name": "stdout",
     "output_type": "stream",
     "text": [
      "1 способ:  4 3\n"
     ]
    }
   ],
   "source": [
    "x = 3\n",
    "y = 4\n",
    "\n",
    "# code here\n",
    "\n",
    "x,y = y,x\n",
    "print('1 способ: ', x, y)\n"
   ]
  },
  {
   "cell_type": "code",
   "execution_count": 34,
   "metadata": {},
   "outputs": [
    {
     "name": "stdout",
     "output_type": "stream",
     "text": [
      "2 способ:  4 3\n"
     ]
    }
   ],
   "source": [
    "x = 3\n",
    "y = 4\n",
    "\n",
    "# code here\n",
    "z = x\n",
    "x = y\n",
    "y = z\n",
    "\n",
    "print('2 способ: ', x, y)"
   ]
  },
  {
   "cell_type": "code",
   "execution_count": 38,
   "metadata": {},
   "outputs": [
    {
     "name": "stdout",
     "output_type": "stream",
     "text": [
      "3 способ:  4 3\n"
     ]
    }
   ],
   "source": [
    "x = 3\n",
    "y = 4\n",
    "\n",
    "# code here\n",
    "x = x + y\n",
    "y = x - y\n",
    "x = x -y\n",
    "\n",
    "print('3 способ: ', x, y)"
   ]
  },
  {
   "cell_type": "markdown",
   "metadata": {},
   "source": [
    "3) Создать список из x возведенных в 3ю степень для X в диапазоне [0, 10] с помощью: \n",
    "    - a) обычного цикла for; \n",
    "    - b) цикла for, генерирующего списка; \n",
    "    - c) функции map со ссылкой на написанную функцию; \n",
    "    - d) функции map c lambda-функцией"
   ]
  },
  {
   "cell_type": "code",
   "execution_count": 4,
   "metadata": {},
   "outputs": [],
   "source": [
    "# code here\n"
   ]
  },
  {
   "cell_type": "code",
   "execution_count": null,
   "metadata": {},
   "outputs": [],
   "source": [
    "# code here"
   ]
  },
  {
   "cell_type": "code",
   "execution_count": null,
   "metadata": {},
   "outputs": [],
   "source": [
    "# code here"
   ]
  },
  {
   "cell_type": "code",
   "execution_count": null,
   "metadata": {},
   "outputs": [],
   "source": [
    "# code here"
   ]
  },
  {
   "cell_type": "markdown",
   "metadata": {},
   "source": [
    "# NumPy (3 задачи)\n",
    "\n",
    "1) Найти векторное произведение 2х вектров следующими способами:\n",
    "    - a) используя метод outer библиотеки NumPy; \n",
    "    - b) используя генератор списков); \n",
    "    - c) используя операции NumPy по работе с массивами (NumPy Broadcasting)."
   ]
  },
  {
   "cell_type": "code",
   "execution_count": 5,
   "metadata": {},
   "outputs": [],
   "source": [
    "import numpy as np\n",
    "\n",
    "u, v = np.array([1,3,5,7]), np.array([2,4,6,8])\n",
    "# code here"
   ]
  },
  {
   "cell_type": "markdown",
   "metadata": {},
   "source": [
    "2) Использовать np.linspace для генерации массива из 100 чисел между 0 и 2π (включительно).\n",
    "\n",
    "    - a) вывести каждый 10-й элемент, используя slice notation;\n",
    "    - b) вывести массив в обратном порядке, используя slice notation;\n",
    "    - c) вывести элементы, для которых абсолютная разница между синусом и косинусом от которых составляет менее 0,1;\n",
    "    - d) вывести график, отображающий значения sin и cos функции на данном массиве, отметить области близкие к их пересечению"
   ]
  },
  {
   "cell_type": "code",
   "execution_count": 7,
   "metadata": {},
   "outputs": [],
   "source": [
    "import numpy as np\n",
    "from matplotlib import pylab as plt\n",
    "%matplotlib inline\n",
    "\n",
    "# code here"
   ]
  },
  {
   "cell_type": "markdown",
   "metadata": {},
   "source": [
    "3) Построить для x=np.arange(0,1,0.04) наборы точек сформированных по y зависимостям:\n",
    "\n",
    "    - линейной,\n",
    "    - квадратичной (с экстремумом)\n",
    "    - кубической (с экстремумом и/или перегибом)\n",
    "\n",
    "Построить еще 3 набора: внести нормальный шум (numpy.random.normal) в каждый из предыдущих\n",
    "\n",
    "Построить в одной плоскости графики (на каждый из 6 наборов)\n",
    "\n",
    "a) Аппроксимация. Применить метод наименьших квадратов (связка np.poly1d и np.polyfit) для заданных значений x и y на следующих моделях:\n",
    "\n",
    "    - константа\n",
    "    - линейная\n",
    "    - квадратичная\n",
    "    - кубическая\n",
    "    - 5го порядка\n",
    "    - полиномом порядка 50\n",
    "\n",
    "Построить график для каждой пары исходного y (с шумом и без), на котором сами пары y и результататы моделей\n",
    "\n",
    "b) Сделать вывод о способности функций различного порядка восстанавливать исходные незашумленные зависимости\n",
    "\n",
    "Все графики подписать"
   ]
  },
  {
   "cell_type": "code",
   "execution_count": 9,
   "metadata": {},
   "outputs": [],
   "source": [
    "import numpy as np\n",
    "from matplotlib import pylab as plt\n",
    "%matplotlib inline\n",
    "\n",
    "x = np.arange(0, 1, 0.04)\n",
    "\n",
    "y_lin = \"\"\n",
    "y_quad = \"\"\n",
    "y_cube = \"\" \n",
    "\n",
    "y_lin_noise = \"\"\n",
    "y_quad_noise = \"\"\n",
    "y_cube_noise = \"\"\n",
    "\n",
    "# code here"
   ]
  },
  {
   "cell_type": "code",
   "execution_count": 10,
   "metadata": {},
   "outputs": [],
   "source": [
    "# code_here"
   ]
  },
  {
   "cell_type": "markdown",
   "metadata": {},
   "source": [
    "Вывод: your answer"
   ]
  },
  {
   "cell_type": "markdown",
   "metadata": {},
   "source": [
    "Pandas (1 задача)\n",
    "Загрузить данные из файла data.csv, где колонками являются:\n",
    "\n",
    "    - country\n",
    "    - year\n",
    "    - pop (население)\n",
    "    - continent\n",
    "    - lifeExp (продолжительность жизни)\n",
    "    - gdpPercap (ВВП на душу населения)\n",
    "\n",
    "    Вывести список периодов и континентов, о которых имеются данные.\n",
    "\n",
    "a) Вывести количество записей о странах с продолжительностью жизни больше 58 или с ВВП больше 100000 за первые 4 периода\n",
    "\n",
    "b) Вывести среднюю продолжительность жизни и количество стран на континентах за каждый год. Колонки: continent, year, avg_lifeExp, countries\n",
    "\n",
    "c) Построить в одной плоскости графики динамики изменения средней продолжительности жизни на континентах по годам"
   ]
  },
  {
   "cell_type": "code",
   "execution_count": 11,
   "metadata": {},
   "outputs": [],
   "source": [
    "# code here"
   ]
  },
  {
   "cell_type": "code",
   "execution_count": null,
   "metadata": {},
   "outputs": [],
   "source": []
  },
  {
   "cell_type": "code",
   "execution_count": null,
   "metadata": {},
   "outputs": [],
   "source": []
  },
  {
   "cell_type": "code",
   "execution_count": null,
   "metadata": {},
   "outputs": [],
   "source": []
  },
  {
   "cell_type": "code",
   "execution_count": null,
   "metadata": {},
   "outputs": [],
   "source": []
  },
  {
   "cell_type": "code",
   "execution_count": null,
   "metadata": {},
   "outputs": [],
   "source": []
  }
 ],
 "metadata": {
  "kernelspec": {
   "display_name": "Python 3",
   "language": "python",
   "name": "python3"
  },
  "language_info": {
   "codemirror_mode": {
    "name": "ipython",
    "version": 3
   },
   "file_extension": ".py",
   "mimetype": "text/x-python",
   "name": "python",
   "nbconvert_exporter": "python",
   "pygments_lexer": "ipython3",
   "version": "3.6.9"
  }
 },
 "nbformat": 4,
 "nbformat_minor": 2
}
